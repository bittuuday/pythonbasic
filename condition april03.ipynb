{
 "cells": [
  {
   "cell_type": "markdown",
   "id": "c6a7ee08",
   "metadata": {},
   "source": [
    "# conditions"
   ]
  },
  {
   "cell_type": "markdown",
   "id": "5db9973d",
   "metadata": {},
   "source": [
    "# conditions has 3 modules\n",
    "if\n",
    "elif\n",
    "else"
   ]
  },
  {
   "cell_type": "code",
   "execution_count": 3,
   "id": "d3ec54f8",
   "metadata": {},
   "outputs": [
    {
     "ename": "SyntaxError",
     "evalue": "expected ':' (2451924524.py, line 1)",
     "output_type": "error",
     "traceback": [
      "\u001b[1;36m  Cell \u001b[1;32mIn[3], line 1\u001b[1;36m\u001b[0m\n\u001b[1;33m    if condition\u001b[0m\n\u001b[1;37m                ^\u001b[0m\n\u001b[1;31mSyntaxError\u001b[0m\u001b[1;31m:\u001b[0m expected ':'\n"
     ]
    }
   ],
   "source": [
    "if condition\n",
    "   statement\n",
    "elif condition1:\n",
    "    statement1\n",
    "elif condition2:\n",
    "    statement2\n",
    "elif condition3:\n",
    "    statement3\n",
    "else\n",
    "     end of statement "
   ]
  },
  {
   "cell_type": "code",
   "execution_count": 6,
   "id": "680f17fb",
   "metadata": {},
   "outputs": [
    {
     "name": "stdout",
     "output_type": "stream",
     "text": [
      "20\n"
     ]
    }
   ],
   "source": [
    "a=10\n",
    "b=20\n",
    "c=a+b\n",
    "if a > b:\n",
    "    print(c)\n",
    "elif a< b:\n",
    "    print(b)\n",
    "elif a!=b:\n",
    "    print(c)\n",
    "else:\n",
    "    print(\"enter the value\")"
   ]
  },
  {
   "cell_type": "code",
   "execution_count": 1,
   "id": "41df938f",
   "metadata": {},
   "outputs": [
    {
     "name": "stdout",
     "output_type": "stream",
     "text": [
      "10\n"
     ]
    }
   ],
   "source": [
    "a=10\n",
    "if a==10:\n",
    "    print(a)"
   ]
  },
  {
   "cell_type": "code",
   "execution_count": 10,
   "id": "bbdb43a6",
   "metadata": {},
   "outputs": [
    {
     "name": "stdout",
     "output_type": "stream",
     "text": [
      "B is grt then a\n"
     ]
    }
   ],
   "source": [
    "a=10\n",
    "b=20\n",
    "if a>b:a\n",
    "    print(\"a is grt then b\")\n",
    "# here space is known as indentation\n",
    "elif b>a:\n",
    "    print(\"B is grt then a\")"
   ]
  },
  {
   "cell_type": "code",
   "execution_count": 7,
   "id": "4754d483",
   "metadata": {},
   "outputs": [
    {
     "name": "stdout",
     "output_type": "stream",
     "text": [
      "1010\n"
     ]
    }
   ],
   "source": [
    "number=10\n",
    "a=f'{number:b}'\n",
    "print(a)"
   ]
  },
  {
   "cell_type": "code",
   "execution_count": 8,
   "id": "b26478a0",
   "metadata": {},
   "outputs": [
    {
     "name": "stdout",
     "output_type": "stream",
     "text": [
      "11110\n"
     ]
    }
   ],
   "source": [
    "number2=30\n",
    "b=f'{number2:0b}'\n",
    "print(b)"
   ]
  },
  {
   "cell_type": "markdown",
   "id": "a1ff678d",
   "metadata": {},
   "source": [
    "# and or opreation"
   ]
  },
  {
   "cell_type": "code",
   "execution_count": 15,
   "id": "43ebc1f4",
   "metadata": {},
   "outputs": [
    {
     "name": "stdout",
     "output_type": "stream",
     "text": [
      "10\n"
     ]
    }
   ],
   "source": [
    "a=10\n",
    "b=20\n",
    "if a==10 or a==20:\n",
    "    print(a)\n"
   ]
  },
  {
   "cell_type": "code",
   "execution_count": 14,
   "id": "ae1d967f",
   "metadata": {
    "collapsed": true
   },
   "outputs": [],
   "source": [
    "if a==10 and  0:\n",
    "    print(a)\n"
   ]
  },
  {
   "cell_type": "code",
   "execution_count": 16,
   "id": "dd2c3ab5",
   "metadata": {},
   "outputs": [],
   "source": [
    "if a==20 and a==20:\n",
    "    print(a)"
   ]
  },
  {
   "cell_type": "markdown",
   "id": "867d7bf5",
   "metadata": {},
   "source": [
    "# calculator"
   ]
  },
  {
   "cell_type": "code",
   "execution_count": 25,
   "id": "c051a24f",
   "metadata": {},
   "outputs": [
    {
     "name": "stdout",
     "output_type": "stream",
     "text": [
      "enter a value9\n",
      "enter b value7\n",
      "Enter a operations,('+','-','%','/','//',)+\n",
      "Here we are preforming addition operation 16\n"
     ]
    }
   ],
   "source": [
    "a=int(input(\"enter a value\"))\n",
    "b=int(input(\"enter b value\"))\n",
    "operations =input(\"Enter a operations,('+','-','%','/','//',)\")\n",
    "if operations ==\"+\":\n",
    "    print(\"Here we are preforming addition operation\",a+b)\n",
    "elif operations ==\"-\":\n",
    "    print(\"Here we are preforming substraction operation\",a-b)\n",
    "elif operations ==\"*\":\n",
    "    print(\"Here we are preforming multipiction operation\",a*b)\n",
    "elif operations ==\"/\":\n",
    "    print(\"Here we are preforming division operation\",a/b)\n",
    "elif operations ==\"//\":\n",
    "    print(\"Here we are preforming division oeration with out decimal point\",a//b)\n",
    "elif oprerations ==\"%\":\n",
    "    print(\"Here we are performing division oeration with out decimal point\",a%b)\n",
    "else:\n",
    "    print(\"please enter the valid operation\")"
   ]
  },
  {
   "cell_type": "code",
   "execution_count": null,
   "id": "3c8d607d",
   "metadata": {},
   "outputs": [],
   "source": []
  }
 ],
 "metadata": {
  "kernelspec": {
   "display_name": "Python 3 (ipykernel)",
   "language": "python",
   "name": "python3"
  },
  "language_info": {
   "codemirror_mode": {
    "name": "ipython",
    "version": 3
   },
   "file_extension": ".py",
   "mimetype": "text/x-python",
   "name": "python",
   "nbconvert_exporter": "python",
   "pygments_lexer": "ipython3",
   "version": "3.10.9"
  }
 },
 "nbformat": 4,
 "nbformat_minor": 5
}
