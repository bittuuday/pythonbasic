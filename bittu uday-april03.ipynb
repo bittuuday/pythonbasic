{
 "cells": [
  {
   "cell_type": "code",
   "execution_count": 1,
   "id": "31ec0936",
   "metadata": {},
   "outputs": [],
   "source": [
    "strings=\"uday kiran\",\"car\",\"holiday\",\"bike\",\"collage\""
   ]
  },
  {
   "cell_type": "code",
   "execution_count": 2,
   "id": "f32af3bb",
   "metadata": {},
   "outputs": [
    {
     "data": {
      "text/plain": [
       "('uday kiran', 'car', 'holiday', 'bike', 'collage')"
      ]
     },
     "execution_count": 2,
     "metadata": {},
     "output_type": "execute_result"
    }
   ],
   "source": [
    "strings"
   ]
  },
  {
   "cell_type": "code",
   "execution_count": 3,
   "id": "712445ec",
   "metadata": {},
   "outputs": [
    {
     "name": "stdout",
     "output_type": "stream",
     "text": [
      "('uday kiran', 'car', 'holiday', 'bike', 'collage')\n"
     ]
    }
   ],
   "source": [
    "print(strings)"
   ]
  },
  {
   "cell_type": "code",
   "execution_count": 4,
   "id": "cd840c61",
   "metadata": {},
   "outputs": [
    {
     "name": "stdout",
     "output_type": "stream",
     "text": [
      "uday kiran\n"
     ]
    }
   ],
   "source": [
    "print(\"uday kiran\")"
   ]
  },
  {
   "cell_type": "code",
   "execution_count": 5,
   "id": "f1b0967e",
   "metadata": {},
   "outputs": [],
   "source": [
    "s=[1,2,3,4,5,5,6,7,]"
   ]
  },
  {
   "cell_type": "code",
   "execution_count": 6,
   "id": "e46c2266",
   "metadata": {},
   "outputs": [
    {
     "name": "stdout",
     "output_type": "stream",
     "text": [
      "[1, 2, 3, 4, 5, 5, 6, 7]\n"
     ]
    }
   ],
   "source": [
    "print(s)"
   ]
  },
  {
   "cell_type": "code",
   "execution_count": 7,
   "id": "96d2f08e",
   "metadata": {},
   "outputs": [
    {
     "data": {
      "text/plain": [
       "1"
      ]
     },
     "execution_count": 7,
     "metadata": {},
     "output_type": "execute_result"
    }
   ],
   "source": [
    "s[0]       "
   ]
  },
  {
   "cell_type": "code",
   "execution_count": 8,
   "id": "e1d11038",
   "metadata": {},
   "outputs": [
    {
     "data": {
      "text/plain": [
       "3"
      ]
     },
     "execution_count": 8,
     "metadata": {},
     "output_type": "execute_result"
    }
   ],
   "source": [
    "s[2]"
   ]
  },
  {
   "cell_type": "code",
   "execution_count": 10,
   "id": "9a97ae5d",
   "metadata": {},
   "outputs": [],
   "source": [
    "s1=[\"udaykiran\",\"car\",\"bike\",\"book\",\"collage\"]                                                                                                                              "
   ]
  },
  {
   "cell_type": "code",
   "execution_count": 11,
   "id": "998a5de9",
   "metadata": {},
   "outputs": [
    {
     "data": {
      "text/plain": [
       "['udaykiran', 'car', 'bike', 'book', 'collage']"
      ]
     },
     "execution_count": 11,
     "metadata": {},
     "output_type": "execute_result"
    }
   ],
   "source": [
    "s1"
   ]
  },
  {
   "cell_type": "code",
   "execution_count": 12,
   "id": "edf0d91e",
   "metadata": {},
   "outputs": [
    {
     "data": {
      "text/plain": [
       "'udaykiran'"
      ]
     },
     "execution_count": 12,
     "metadata": {},
     "output_type": "execute_result"
    }
   ],
   "source": [
    "s1[0]"
   ]
  },
  {
   "cell_type": "code",
   "execution_count": 13,
   "id": "c480d448",
   "metadata": {},
   "outputs": [
    {
     "data": {
      "text/plain": [
       "'book'"
      ]
     },
     "execution_count": 13,
     "metadata": {},
     "output_type": "execute_result"
    }
   ],
   "source": [
    "s1[3]"
   ]
  },
  {
   "cell_type": "code",
   "execution_count": 15,
   "id": "bd160c3f",
   "metadata": {},
   "outputs": [],
   "source": [
    "s2=[\"ken\",\"ben\",\"gwen\",\"ten\",\"max\"]"
   ]
  },
  {
   "cell_type": "code",
   "execution_count": 16,
   "id": "c4b4364a",
   "metadata": {},
   "outputs": [
    {
     "data": {
      "text/plain": [
       "'ten'"
      ]
     },
     "execution_count": 16,
     "metadata": {},
     "output_type": "execute_result"
    }
   ],
   "source": [
    "s2[3]"
   ]
  },
  {
   "cell_type": "code",
   "execution_count": 18,
   "id": "b5850a18",
   "metadata": {},
   "outputs": [
    {
     "data": {
      "text/plain": [
       "'gwen'"
      ]
     },
     "execution_count": 18,
     "metadata": {},
     "output_type": "execute_result"
    }
   ],
   "source": [
    "s2[2]"
   ]
  },
  {
   "cell_type": "code",
   "execution_count": 23,
   "id": "88d18eef",
   "metadata": {},
   "outputs": [],
   "source": [
    "uday=(\"i am uday form hyderbad and stay in nallkunta\")"
   ]
  },
  {
   "cell_type": "code",
   "execution_count": 24,
   "id": "692e44c5",
   "metadata": {},
   "outputs": [
    {
     "name": "stdout",
     "output_type": "stream",
     "text": [
      "i am uday form hyderbad and stay in nallkunta\n"
     ]
    }
   ],
   "source": [
    "print(uday)"
   ]
  },
  {
   "cell_type": "code",
   "execution_count": 25,
   "id": "261831b7",
   "metadata": {},
   "outputs": [
    {
     "data": {
      "text/plain": [
       "'i'"
      ]
     },
     "execution_count": 25,
     "metadata": {},
     "output_type": "execute_result"
    }
   ],
   "source": [
    "uday[0]"
   ]
  },
  {
   "cell_type": "code",
   "execution_count": 26,
   "id": "f4fb116d",
   "metadata": {},
   "outputs": [
    {
     "data": {
      "text/plain": [
       "'a'"
      ]
     },
     "execution_count": 26,
     "metadata": {},
     "output_type": "execute_result"
    }
   ],
   "source": [
    "uday[7]"
   ]
  },
  {
   "cell_type": "code",
   "execution_count": 27,
   "id": "e964144f",
   "metadata": {},
   "outputs": [
    {
     "data": {
      "text/plain": [
       "'m'"
      ]
     },
     "execution_count": 27,
     "metadata": {},
     "output_type": "execute_result"
    }
   ],
   "source": [
    "uday[3]"
   ]
  },
  {
   "cell_type": "code",
   "execution_count": 30,
   "id": "86f170ce",
   "metadata": {},
   "outputs": [
    {
     "data": {
      "text/plain": [
       "' '"
      ]
     },
     "execution_count": 30,
     "metadata": {},
     "output_type": "execute_result"
    }
   ],
   "source": [
    "uday[4]"
   ]
  },
  {
   "cell_type": "code",
   "execution_count": 31,
   "id": "194920e4",
   "metadata": {},
   "outputs": [
    {
     "data": {
      "text/plain": [
       "'a'"
      ]
     },
     "execution_count": 31,
     "metadata": {},
     "output_type": "execute_result"
    }
   ],
   "source": [
    "uday[-1]"
   ]
  },
  {
   "cell_type": "code",
   "execution_count": 32,
   "id": "c7e8ae1e",
   "metadata": {},
   "outputs": [
    {
     "data": {
      "text/plain": [
       "'i am uday '"
      ]
     },
     "execution_count": 32,
     "metadata": {},
     "output_type": "execute_result"
    }
   ],
   "source": [
    "uday[0:10:1]"
   ]
  },
  {
   "cell_type": "code",
   "execution_count": 33,
   "id": "5435fcdf",
   "metadata": {},
   "outputs": [
    {
     "data": {
      "text/plain": [
       "'ia dy'"
      ]
     },
     "execution_count": 33,
     "metadata": {},
     "output_type": "execute_result"
    }
   ],
   "source": [
    "uday[0:10:2]"
   ]
  },
  {
   "cell_type": "code",
   "execution_count": 34,
   "id": "28f11cb2",
   "metadata": {},
   "outputs": [
    {
     "data": {
      "text/plain": [
       "'iu'"
      ]
     },
     "execution_count": 34,
     "metadata": {},
     "output_type": "execute_result"
    }
   ],
   "source": [
    "uday[0:10:5]"
   ]
  },
  {
   "cell_type": "code",
   "execution_count": 1,
   "id": "64f3e2e4",
   "metadata": {},
   "outputs": [],
   "source": [
    "list=[\"uday\",\"car\",\"watch\",\"bike\",\"collage\"]"
   ]
  },
  {
   "cell_type": "code",
   "execution_count": 2,
   "id": "b6a2de90",
   "metadata": {},
   "outputs": [
    {
     "data": {
      "text/plain": [
       "['uday', 'car', 'watch', 'bike', 'collage']"
      ]
     },
     "execution_count": 2,
     "metadata": {},
     "output_type": "execute_result"
    }
   ],
   "source": [
    "list"
   ]
  },
  {
   "cell_type": "code",
   "execution_count": 3,
   "id": "ba845d30",
   "metadata": {},
   "outputs": [],
   "source": [
    "a=(\"a\",\"b\",\"c\",\"d\",\"e\",\"f\",\"g\",\"h\",\"i\")"
   ]
  },
  {
   "cell_type": "code",
   "execution_count": 4,
   "id": "3bd50cbc",
   "metadata": {},
   "outputs": [
    {
     "data": {
      "text/plain": [
       "('a', 'b', 'c', 'd', 'e', 'f', 'g', 'h', 'i')"
      ]
     },
     "execution_count": 4,
     "metadata": {},
     "output_type": "execute_result"
    }
   ],
   "source": [
    "a"
   ]
  },
  {
   "cell_type": "code",
   "execution_count": 5,
   "id": "e741d101",
   "metadata": {},
   "outputs": [],
   "source": [
    "b=(1,2,3,4,5,6,7,8)"
   ]
  },
  {
   "cell_type": "code",
   "execution_count": 6,
   "id": "f45e4c91",
   "metadata": {},
   "outputs": [],
   "source": [
    "set{1,2,3,4,5,6,7,8,9,10}"
   ]
  },
  {
   "cell_type": "code",
   "execution_count": 8,
   "id": "7ca6d91f",
   "metadata": {},
   "outputs": [],
   "source": [
    "dic={\"key\":\"value\",\"key1\":\"value2\",\"key\":\"value2\"}"
   ]
  },
  {
   "cell_type": "code",
   "execution_count": 9,
   "id": "024e0632",
   "metadata": {},
   "outputs": [],
   "source": [
    "uday={\"name\":\"uady\",\"email_id\":\"mangalagiriudaykiran@gmail.com\",\"collage\":\"kmics\",\"place\":\"nallkunta\"}"
   ]
  },
  {
   "cell_type": "code",
   "execution_count": 10,
   "id": "bc784294",
   "metadata": {},
   "outputs": [
    {
     "data": {
      "text/plain": [
       "{'name': 'uady',\n",
       " 'email_id': 'mangalagiriudaykiran@gmail.com',\n",
       " 'collage': 'kmics',\n",
       " 'place': 'nallkunta'}"
      ]
     },
     "execution_count": 10,
     "metadata": {},
     "output_type": "execute_result"
    }
   ],
   "source": [
    "uday"
   ]
  },
  {
   "cell_type": "code",
   "execution_count": 11,
   "id": "eb34db63",
   "metadata": {},
   "outputs": [
    {
     "data": {
      "text/plain": [
       "dict_keys(['name', 'email_id', 'collage', 'place'])"
      ]
     },
     "execution_count": 11,
     "metadata": {},
     "output_type": "execute_result"
    }
   ],
   "source": [
    "uday.keys()"
   ]
  },
  {
   "cell_type": "code",
   "execution_count": 12,
   "id": "e588e13e",
   "metadata": {},
   "outputs": [
    {
     "data": {
      "text/plain": [
       "dict_values(['uady', 'mangalagiriudaykiran@gmail.com', 'kmics', 'nallkunta'])"
      ]
     },
     "execution_count": 12,
     "metadata": {},
     "output_type": "execute_result"
    }
   ],
   "source": [
    "uday.values()"
   ]
  },
  {
   "cell_type": "code",
   "execution_count": 13,
   "id": "4e13963a",
   "metadata": {},
   "outputs": [
    {
     "data": {
      "text/plain": [
       "<function dict.values>"
      ]
     },
     "execution_count": 13,
     "metadata": {},
     "output_type": "execute_result"
    }
   ],
   "source": [
    "uday.values"
   ]
  },
  {
   "cell_type": "code",
   "execution_count": 14,
   "id": "f0ad3d9e",
   "metadata": {},
   "outputs": [
    {
     "data": {
      "text/plain": [
       "dict"
      ]
     },
     "execution_count": 14,
     "metadata": {},
     "output_type": "execute_result"
    }
   ],
   "source": [
    "type(uday)"
   ]
  },
  {
   "cell_type": "code",
   "execution_count": 19,
   "id": "6b7e7c50",
   "metadata": {},
   "outputs": [],
   "source": [
    "uday[0]=\"prem\""
   ]
  },
  {
   "cell_type": "code",
   "execution_count": 20,
   "id": "6bb94ed3",
   "metadata": {},
   "outputs": [
    {
     "data": {
      "text/plain": [
       "{'name': 'uady',\n",
       " 'email_id': 'mangalagiriudaykiran@gmail.com',\n",
       " 'collage': 'kmics',\n",
       " 'place': 'nallkunta',\n",
       " 0: 'prem'}"
      ]
     },
     "execution_count": 20,
     "metadata": {},
     "output_type": "execute_result"
    }
   ],
   "source": [
    "uday"
   ]
  },
  {
   "cell_type": "code",
   "execution_count": 21,
   "id": "e5a2a5ba",
   "metadata": {},
   "outputs": [],
   "source": [
    "t=(\"uday\",\"collage\",\"car\",\"book\",\"bike\")"
   ]
  },
  {
   "cell_type": "code",
   "execution_count": 27,
   "id": "07aa1b57",
   "metadata": {},
   "outputs": [
    {
     "data": {
      "text/plain": [
       "('uday', 'collage', 'car', 'book', 'bike')"
      ]
     },
     "execution_count": 27,
     "metadata": {},
     "output_type": "execute_result"
    }
   ],
   "source": [
    "t"
   ]
  },
  {
   "cell_type": "code",
   "execution_count": 5,
   "id": "51135e10",
   "metadata": {},
   "outputs": [],
   "source": [
    "f=open(\"uday.txt\",\"w\")"
   ]
  },
  {
   "cell_type": "code",
   "execution_count": 6,
   "id": "1fbacc7c",
   "metadata": {},
   "outputs": [
    {
     "data": {
      "text/plain": [
       "65"
      ]
     },
     "execution_count": 6,
     "metadata": {},
     "output_type": "execute_result"
    }
   ],
   "source": [
    "f.write(\"This is my first file written in jupyter notebook on 1 april-2023\")"
   ]
  },
  {
   "cell_type": "code",
   "execution_count": 7,
   "id": "a5209d18",
   "metadata": {},
   "outputs": [],
   "source": [
    "f.close()"
   ]
  },
  {
   "cell_type": "code",
   "execution_count": 3,
   "id": "e1a34a96",
   "metadata": {},
   "outputs": [],
   "source": [
    "a=10\n",
    "b=5"
   ]
  },
  {
   "cell_type": "code",
   "execution_count": 4,
   "id": "ef4546ad",
   "metadata": {},
   "outputs": [
    {
     "name": "stdout",
     "output_type": "stream",
     "text": [
      "True\n"
     ]
    }
   ],
   "source": [
    "print(a>b)"
   ]
  },
  {
   "cell_type": "code",
   "execution_count": 5,
   "id": "4a543dab",
   "metadata": {},
   "outputs": [],
   "source": [
    "a=30\n",
    "b=15"
   ]
  },
  {
   "cell_type": "code",
   "execution_count": 6,
   "id": "88ee257b",
   "metadata": {},
   "outputs": [
    {
     "name": "stdout",
     "output_type": "stream",
     "text": [
      "False\n"
     ]
    }
   ],
   "source": [
    "print(a<b)"
   ]
  },
  {
   "cell_type": "code",
   "execution_count": 9,
   "id": "b6b57530",
   "metadata": {},
   "outputs": [],
   "source": [
    "car=20\n",
    "bike=40"
   ]
  },
  {
   "cell_type": "code",
   "execution_count": 10,
   "id": "2a333baf",
   "metadata": {},
   "outputs": [
    {
     "name": "stdout",
     "output_type": "stream",
     "text": [
      "True\n"
     ]
    }
   ],
   "source": [
    "print(bike>car)"
   ]
  },
  {
   "cell_type": "code",
   "execution_count": 11,
   "id": "53333199",
   "metadata": {},
   "outputs": [],
   "source": [
    "n=75\n",
    "d=95"
   ]
  },
  {
   "cell_type": "code",
   "execution_count": 12,
   "id": "f72ee81f",
   "metadata": {},
   "outputs": [
    {
     "name": "stdout",
     "output_type": "stream",
     "text": [
      "True\n"
     ]
    }
   ],
   "source": [
    "print(n<d)"
   ]
  },
  {
   "cell_type": "code",
   "execution_count": 13,
   "id": "dc8f7d7a",
   "metadata": {},
   "outputs": [],
   "source": [
    "g=100\n",
    "h=56"
   ]
  },
  {
   "cell_type": "code",
   "execution_count": 14,
   "id": "4b3d9e3f",
   "metadata": {},
   "outputs": [
    {
     "name": "stdout",
     "output_type": "stream",
     "text": [
      "True\n"
     ]
    }
   ],
   "source": [
    "print(g>h)"
   ]
  },
  {
   "cell_type": "code",
   "execution_count": 15,
   "id": "85a9ff44",
   "metadata": {},
   "outputs": [
    {
     "name": "stdout",
     "output_type": "stream",
     "text": [
      "False\n"
     ]
    }
   ],
   "source": [
    "print(g<h)"
   ]
  },
  {
   "cell_type": "code",
   "execution_count": 16,
   "id": "e2dc7e6a",
   "metadata": {},
   "outputs": [],
   "source": [
    "a=10\n",
    "b=20"
   ]
  },
  {
   "cell_type": "code",
   "execution_count": 17,
   "id": "4b72df48",
   "metadata": {},
   "outputs": [
    {
     "data": {
      "text/plain": [
       "30"
      ]
     },
     "execution_count": 17,
     "metadata": {},
     "output_type": "execute_result"
    }
   ],
   "source": [
    "a+b"
   ]
  },
  {
   "cell_type": "code",
   "execution_count": 18,
   "id": "ed2caf03",
   "metadata": {},
   "outputs": [],
   "source": [
    "c=40\n",
    "d=67"
   ]
  },
  {
   "cell_type": "code",
   "execution_count": 19,
   "id": "338d94b9",
   "metadata": {},
   "outputs": [
    {
     "data": {
      "text/plain": [
       "-27"
      ]
     },
     "execution_count": 19,
     "metadata": {},
     "output_type": "execute_result"
    }
   ],
   "source": [
    "c-d"
   ]
  },
  {
   "cell_type": "code",
   "execution_count": 20,
   "id": "247b551d",
   "metadata": {},
   "outputs": [],
   "source": [
    "e=50\n",
    "f=75"
   ]
  },
  {
   "cell_type": "code",
   "execution_count": 21,
   "id": "c9a27557",
   "metadata": {},
   "outputs": [
    {
     "data": {
      "text/plain": [
       "3750"
      ]
     },
     "execution_count": 21,
     "metadata": {},
     "output_type": "execute_result"
    }
   ],
   "source": [
    "e*f"
   ]
  },
  {
   "cell_type": "code",
   "execution_count": 22,
   "id": "f602de28",
   "metadata": {},
   "outputs": [],
   "source": [
    "g=75\n",
    "h=12"
   ]
  },
  {
   "cell_type": "code",
   "execution_count": 23,
   "id": "fe3efd16",
   "metadata": {},
   "outputs": [
    {
     "data": {
      "text/plain": [
       "0.16"
      ]
     },
     "execution_count": 23,
     "metadata": {},
     "output_type": "execute_result"
    }
   ],
   "source": [
    "h/g"
   ]
  },
  {
   "cell_type": "code",
   "execution_count": 28,
   "id": "50be7366",
   "metadata": {},
   "outputs": [
    {
     "ename": "NameError",
     "evalue": "name 'a_car' is not defined",
     "output_type": "error",
     "traceback": [
      "\u001b[1;31m---------------------------------------------------------------------------\u001b[0m",
      "\u001b[1;31mNameError\u001b[0m                                 Traceback (most recent call last)",
      "Cell \u001b[1;32mIn[28], line 4\u001b[0m\n\u001b[0;32m      2\u001b[0m car\u001b[38;5;241m=\u001b[39m\u001b[38;5;241m20\u001b[39m\n\u001b[0;32m      3\u001b[0m value\u001b[38;5;241m=\u001b[39ma\u001b[38;5;241m+\u001b[39mcar\n\u001b[1;32m----> 4\u001b[0m value2\u001b[38;5;241m=\u001b[39m\u001b[43ma_car\u001b[49m\n\u001b[0;32m      5\u001b[0m value3\u001b[38;5;241m=\u001b[39ma\u001b[38;5;241m*\u001b[39mcar\n\u001b[0;32m      6\u001b[0m value4\u001b[38;5;241m=\u001b[39ma\u001b[38;5;241m%\u001b[39mcar\n",
      "\u001b[1;31mNameError\u001b[0m: name 'a_car' is not defined"
     ]
    }
   ],
   "source": [
    "a=40\n",
    "car=20\n",
    "value=a+car\n",
    "value2=a_car\n",
    "value3=a*car\n",
    "value4=a%car\n",
    "value5=a*100/car  # this is the percentage of a  \n",
    "\n"
   ]
  },
  {
   "cell_type": "code",
   "execution_count": 29,
   "id": "3dc354c3",
   "metadata": {},
   "outputs": [
    {
     "name": "stdout",
     "output_type": "stream",
     "text": [
      "60\n"
     ]
    }
   ],
   "source": [
    "print(a+car) "
   ]
  },
  {
   "cell_type": "code",
   "execution_count": 30,
   "id": "c733c01f",
   "metadata": {},
   "outputs": [
    {
     "name": "stdout",
     "output_type": "stream",
     "text": [
      "20\n"
     ]
    }
   ],
   "source": [
    "print (a-car)"
   ]
  },
  {
   "cell_type": "code",
   "execution_count": 31,
   "id": "76b394ef",
   "metadata": {},
   "outputs": [
    {
     "name": "stdout",
     "output_type": "stream",
     "text": [
      "800\n"
     ]
    }
   ],
   "source": [
    "print(a*car)"
   ]
  },
  {
   "cell_type": "code",
   "execution_count": 32,
   "id": "001a1454",
   "metadata": {},
   "outputs": [
    {
     "name": "stdout",
     "output_type": "stream",
     "text": [
      "0\n"
     ]
    }
   ],
   "source": [
    "print(a%car)"
   ]
  },
  {
   "cell_type": "code",
   "execution_count": 34,
   "id": "ca0c4e57",
   "metadata": {},
   "outputs": [
    {
     "name": "stdout",
     "output_type": "stream",
     "text": [
      "this is percentage of a  200.0\n"
     ]
    }
   ],
   "source": [
    "print(\"this is percentage of a:- \",a*100/car)"
   ]
  },
  {
   "cell_type": "code",
   "execution_count": 40,
   "id": "e53b8011",
   "metadata": {},
   "outputs": [
    {
     "ename": "NameError",
     "evalue": "name 'value1' is not defined",
     "output_type": "error",
     "traceback": [
      "\u001b[1;31m---------------------------------------------------------------------------\u001b[0m",
      "\u001b[1;31mNameError\u001b[0m                                 Traceback (most recent call last)",
      "Cell \u001b[1;32mIn[40], line 1\u001b[0m\n\u001b[1;32m----> 1\u001b[0m \u001b[38;5;28mprint\u001b[39m(\u001b[38;5;124m\"\u001b[39m\u001b[38;5;124mthis is sum of a:-\u001b[39m\u001b[38;5;124m\"\u001b[39m,\u001b[43mvalue1\u001b[49m)\n",
      "\u001b[1;31mNameError\u001b[0m: name 'value1' is not defined"
     ]
    }
   ],
   "source": [
    "print(\"this is sum of a:-\",value1)"
   ]
  },
  {
   "cell_type": "code",
   "execution_count": 41,
   "id": "00c81e01",
   "metadata": {},
   "outputs": [
    {
     "name": "stdout",
     "output_type": "stream",
     "text": [
      "60\n"
     ]
    }
   ],
   "source": [
    "print(value)"
   ]
  },
  {
   "cell_type": "code",
   "execution_count": 42,
   "id": "e2970835",
   "metadata": {},
   "outputs": [
    {
     "name": "stdout",
     "output_type": "stream",
     "text": [
      "this is sum of a:- 60\n"
     ]
    }
   ],
   "source": [
    "print(\"this is sum of a:-\",value)"
   ]
  },
  {
   "cell_type": "code",
   "execution_count": 43,
   "id": "cea3e887",
   "metadata": {},
   "outputs": [],
   "source": [
    "t=(1,2,3,3,5,\"uday\")"
   ]
  },
  {
   "cell_type": "code",
   "execution_count": 44,
   "id": "2fd60d7d",
   "metadata": {},
   "outputs": [
    {
     "data": {
      "text/plain": [
       "[1, 2, 3, 3, 5, 'uday']"
      ]
     },
     "execution_count": 44,
     "metadata": {},
     "output_type": "execute_result"
    }
   ],
   "source": [
    "list(t)"
   ]
  },
  {
   "cell_type": "code",
   "execution_count": 45,
   "id": "def86c90",
   "metadata": {},
   "outputs": [],
   "source": [
    "b=list(t)"
   ]
  },
  {
   "cell_type": "code",
   "execution_count": 46,
   "id": "6234cdf1",
   "metadata": {},
   "outputs": [
    {
     "data": {
      "text/plain": [
       "list"
      ]
     },
     "execution_count": 46,
     "metadata": {},
     "output_type": "execute_result"
    }
   ],
   "source": [
    "type(b)"
   ]
  },
  {
   "cell_type": "code",
   "execution_count": 47,
   "id": "ba26397d",
   "metadata": {},
   "outputs": [
    {
     "data": {
      "text/plain": [
       "[1, 2, 3, 3, 5, 'uday']"
      ]
     },
     "execution_count": 47,
     "metadata": {},
     "output_type": "execute_result"
    }
   ],
   "source": [
    "list(b)"
   ]
  },
  {
   "cell_type": "code",
   "execution_count": 48,
   "id": "8354e6b2",
   "metadata": {},
   "outputs": [],
   "source": [
    "s1=list(b)"
   ]
  },
  {
   "cell_type": "code",
   "execution_count": 49,
   "id": "26ae5596",
   "metadata": {},
   "outputs": [
    {
     "data": {
      "text/plain": [
       "[1, 2, 3, 3, 5, 'uday']"
      ]
     },
     "execution_count": 49,
     "metadata": {},
     "output_type": "execute_result"
    }
   ],
   "source": [
    "list(b)"
   ]
  },
  {
   "cell_type": "code",
   "execution_count": 50,
   "id": "5104620f",
   "metadata": {},
   "outputs": [
    {
     "name": "stdout",
     "output_type": "stream",
     "text": [
      "[1, 2, 3, 3, 5, 'uday']\n"
     ]
    }
   ],
   "source": [
    "print(s1)"
   ]
  },
  {
   "cell_type": "code",
   "execution_count": 52,
   "id": "1957839b",
   "metadata": {},
   "outputs": [],
   "source": [
    "b={1,2,3,4,\"uday\",\"krishan\"}"
   ]
  },
  {
   "cell_type": "code",
   "execution_count": 53,
   "id": "f48e78fe",
   "metadata": {},
   "outputs": [
    {
     "data": {
      "text/plain": [
       "['krishan', 1, 2, 3, 4, 'uday']"
      ]
     },
     "execution_count": 53,
     "metadata": {},
     "output_type": "execute_result"
    }
   ],
   "source": [
    "list(b)"
   ]
  },
  {
   "cell_type": "code",
   "execution_count": 54,
   "id": "b68bf919",
   "metadata": {},
   "outputs": [],
   "source": [
    "s1=list(b)"
   ]
  },
  {
   "cell_type": "code",
   "execution_count": 55,
   "id": "88562c54",
   "metadata": {},
   "outputs": [
    {
     "name": "stdout",
     "output_type": "stream",
     "text": [
      "['krishan', 1, 2, 3, 4, 'uday']\n"
     ]
    }
   ],
   "source": [
    "print(s1)"
   ]
  },
  {
   "cell_type": "code",
   "execution_count": null,
   "id": "0ac0f81b",
   "metadata": {},
   "outputs": [],
   "source": []
  }
 ],
 "metadata": {
  "kernelspec": {
   "display_name": "Python 3 (ipykernel)",
   "language": "python",
   "name": "python3"
  },
  "language_info": {
   "codemirror_mode": {
    "name": "ipython",
    "version": 3
   },
   "file_extension": ".py",
   "mimetype": "text/x-python",
   "name": "python",
   "nbconvert_exporter": "python",
   "pygments_lexer": "ipython3",
   "version": "3.10.9"
  }
 },
 "nbformat": 4,
 "nbformat_minor": 5
}
